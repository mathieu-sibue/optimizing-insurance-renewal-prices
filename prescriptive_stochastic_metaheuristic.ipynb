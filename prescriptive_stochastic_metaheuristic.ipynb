{
  "cells": [
    {
      "cell_type": "markdown",
      "metadata": {
        "id": "nsI7zgLXEzr5"
      },
      "source": [
        "# Prescriptive part of the problem: metaheuristic stochastic approach"
      ]
    },
    {
      "cell_type": "markdown",
      "source": [
        "Optimization problem to solve: \n",
        "maximize total profit on the portfolio by finding personalized rebate/surcharge coefficients while maintaining a certain percentage of customers in the portfolio.\n",
        "\n",
        "**Note: for the rest of this study, we will search personalized surcharge coefficients** ```delta``` **between -5% and 10% for each customer**\n",
        "\n",
        "Difficulties:\n",
        "- large scale problem (one variable to optimize per client i: the rebate/surcharge coefficient delta_i)\n",
        "- nonlinear problem, both in the objective (profit_i = retention_proba_i(delta_i) * [premium_i * (1+delta_i) - cost_i]) and the global constraint (avg(retention_proba_i for i in range(N)) > percentage_to_keep)\n",
        "\n",
        "Metaheuristic stochastic resolution:\n",
        "- run a genetic algorithm for many generations to find good quality solutions and compare them with the divide & conquer deterministic approach."
      ],
      "metadata": {
        "id": "U2jk9akSFcZY"
      }
    },
    {
      "cell_type": "markdown",
      "source": [
        "Package importations"
      ],
      "metadata": {
        "id": "W0jYSOkSGApx"
      }
    },
    {
      "cell_type": "code",
      "execution_count": null,
      "metadata": {
        "id": "WiVW8sSMEzr7"
      },
      "outputs": [],
      "source": [
        "import pandas as pd\n",
        "import sys\n",
        "import numpy\n",
        "import os\n",
        "import matplotlib.pyplot as plt\n",
        "from copy import deepcopy, copy\n",
        "import random\n",
        "from deap import creator, base, tools, algorithms"
      ]
    },
    {
      "cell_type": "markdown",
      "metadata": {
        "id": "YMMaDHJnEzr8"
      },
      "source": [
        "Data importation"
      ]
    },
    {
      "cell_type": "code",
      "execution_count": null,
      "metadata": {
        "id": "JwDtYYRiEzr9"
      },
      "outputs": [],
      "source": [
        "os.chdir(r\"### wd ###\")\n",
        "contract_df = pd.read_csv(\"data.csv\")\n",
        "contract_df = contract_df.set_index(\"id_police\").dropna()"
      ]
    },
    {
      "cell_type": "markdown",
      "metadata": {
        "id": "lbIYA-NlEzr9"
      },
      "source": [
        "We define right below the general hyperparameters of the genetic algorithm."
      ]
    },
    {
      "cell_type": "code",
      "execution_count": null,
      "metadata": {
        "id": "H4pL-92DEzr9"
      },
      "outputs": [],
      "source": [
        "# general parameters\n",
        "min_retention_rate = 0.93\n",
        "delta_min = -0.05\n",
        "delta_max = 0.1\n",
        "mating_change_rate=0.3\n",
        "penality_distance=-1000000000\n",
        "N=len(contract_df)\n",
        "df = copy(contract_df)\n",
        "prime_profit = df['prime_profit']\n",
        "pcc = df['pcc']\n",
        "A = df['coeff_non_prix']\n",
        "B = df['coeff_prix']"
      ]
    },
    {
      "cell_type": "markdown",
      "metadata": {
        "id": "N3h7eKBkEzr-"
      },
      "source": [
        "We build right below the individuals aka genes that will compose our population of solutions:"
      ]
    },
    {
      "cell_type": "code",
      "execution_count": null,
      "metadata": {
        "id": "MoGAsxaGEzr-"
      },
      "outputs": [],
      "source": [
        "def builder():\n",
        "    '''Returns a vector of length N, initialized with a random delta'''\n",
        "    return random.uniform(delta_min,delta_max)*numpy.ones(N)\n",
        "\n",
        "# We first create an individual class, with the fitness attribute\n",
        "creator.create(\"FitnessMax\", base.Fitness, weights=(1.0,))\n",
        "creator.create(\"individual\", list, fitness=creator.FitnessMax)\n",
        "toolbox = base.Toolbox()\n",
        "toolbox.register(\"delta0\", builder)\n",
        "\n",
        "# We initialize an individual with builder().\n",
        "toolbox.register(\"individual\", tools.initIterate, creator.individual, toolbox.delta0)\n",
        "toolbox.register(\"population\", tools.initRepeat, list, toolbox.individual)"
      ]
    },
    {
      "cell_type": "markdown",
      "metadata": {
        "id": "YlRZXrqiEzr_"
      },
      "source": [
        "We define right below the functions that will enable us to evaluate the fitness/quality of the individuals as well as their feasibility (ie check if the considered solution verifies the global constraint):"
      ]
    },
    {
      "cell_type": "code",
      "execution_count": null,
      "metadata": {
        "id": "DS8Fm_7CEzr_"
      },
      "outputs": [],
      "source": [
        "def evalOneMax(delta):\n",
        "    '''Evaluation function for an individual. \n",
        "    Returns the turnout associated with a delta individual.'''\n",
        "    retention_proba = 1-(1/(1+numpy.exp(-A-100*pd.Series(delta)*B)))\n",
        "    return (((prime_profit*(1+pd.Series(delta))-pcc)*retention_proba).sum(),)\n",
        "\n",
        "def feasible(delta):\n",
        "    \"\"\"Feasibility function for the individual. Returns True if feasible False\n",
        "    otherwise.\"\"\"\n",
        "    retention_proba = 1-(1/(1+numpy.exp(-A-100*pd.Series(delta)*B)))\n",
        "    retention_rate=retention_proba.sum()/N\n",
        "    if retention_rate>=min_retention_rate:\n",
        "        return True\n",
        "    return False\n",
        "\n",
        "def distance(delta):\n",
        "    \"\"\"A distance function to the feasibility region.\"\"\"\n",
        "    retention_proba = 1-(1/(1+numpy.exp(-A-100*pd.Series(delta)*B)))\n",
        "    retention_rate=retention_proba.sum()/N\n",
        "    return (max(0,min_retention_rate-retention_rate))"
      ]
    },
    {
      "cell_type": "markdown",
      "metadata": {
        "id": "S6lmZCAbEzsA"
      },
      "source": [
        "We choose right below our strategies for mating, mutations, and selection:"
      ]
    },
    {
      "cell_type": "code",
      "execution_count": null,
      "metadata": {
        "id": "pXXGxy89EzsA"
      },
      "outputs": [],
      "source": [
        "def maxmating(ind1,ind2):\n",
        "    '''A mating function returning two individuals with some switched parameters. '''\n",
        "    for i in range(len(ind1)):\n",
        "        if random.random()<=mating_change_rate:\n",
        "            ind1[i],ind2[i]=max(ind1[i],ind2[i]),min(ind1[i],ind2[i])\n",
        "    return ind1,ind2\n",
        "\n",
        "toolbox.register(\"evaluate\", evalOneMax)\n",
        "toolbox.decorate(\"evaluate\", tools.DeltaPenalty(feasible, penality_distance, distance))\n",
        "# toolbox.register(\"mate\", tools.cxTwoPoint)\n",
        "toolbox.register(\"mate\", maxmating)\n",
        "# toolbox.register(\"mutate\", tools.mutPolynomialBounded, eta=0.2, low=delta_min, up=delta_max, indpb=0.60)\n",
        "toolbox.register(\"mutate\", tools.mutGaussian, mu=0,sigma=0.05, indpb=0.50)\n",
        "toolbox.register(\"select\", tools.selTournament, tournsize=3)"
      ]
    },
    {
      "cell_type": "markdown",
      "metadata": {
        "id": "SEmVMrzPEzsA"
      },
      "source": [
        "The main algorithm that loops over the population:"
      ]
    },
    {
      "cell_type": "code",
      "execution_count": null,
      "metadata": {
        "id": "6Bdz62ugEzsA"
      },
      "outputs": [],
      "source": [
        "def main():\n",
        "    # Genetic algorithm\n",
        "    pop = toolbox.population(n=100)\n",
        "    # Evaluate the entire population\n",
        "    fitnesses = list(map(toolbox.evaluate, pop))\n",
        "    for ind, fit in zip(pop, fitnesses):\n",
        "        ind.fitness.values = fit\n",
        "    # CXPB  is the probability with which two individuals\n",
        "    #       are crossed\n",
        "    #\n",
        "    # MUTPB is the probability for mutating an individual\n",
        "    CXPB, MUTPB = 0.5, 0.2\n",
        "    # Extracting all the fitnesses of \n",
        "    fits = [ind.fitness.values[0] for ind in pop]\n",
        "    # Variable keeping track of the number of generations\n",
        "    g = 0\n",
        "    # Begin the evolution\n",
        "    while g < 20:\n",
        "        # A new generation\n",
        "        g = g + 1\n",
        "        print(\"-- Generation %i --\" % g)\n",
        "        # Select the next generation individuals\n",
        "        offspring = toolbox.select(pop, len(pop))\n",
        "        # Clone the selected individuals\n",
        "        offspring = list(map(toolbox.clone, offspring))\n",
        "        # Apply crossover and mutation on the offspring\n",
        "        for (child1, child2) in list(zip(offspring[::2], offspring[1::2])):\n",
        "            if random.random() < CXPB:\n",
        "                toolbox.mate(child1, child2)\n",
        "                del child1.fitness.values\n",
        "                del child2.fitness.values\n",
        "\n",
        "        for mutant in offspring:\n",
        "            if random.random() < MUTPB:\n",
        "                toolbox.mutate(mutant)\n",
        "                del mutant.fitness.values\n",
        "         # Evaluate the individuals with an invalid fitness\n",
        "        invalid_ind = [ind for ind in offspring if not ind.fitness.valid]\n",
        "        fitnesses = map(toolbox.evaluate, invalid_ind)\n",
        "        for ind, fit in zip(invalid_ind, fitnesses):\n",
        "            ind.fitness.values = fit\n",
        "        pop[:] = offspring\n",
        "        # Gather all the fitnesses in one list and print the stats\n",
        "        fits = [ind.fitness.values[0] for ind in pop]\n",
        "        \n",
        "        length = len(pop)\n",
        "        mean = sum(fits) / length\n",
        "        sum2 = sum(x*x for x in fits)\n",
        "        std = abs(sum2 / length - mean**2)**0.5\n",
        "        maxi=max(fits)\n",
        "        print(\"  Min %s\" % min(fits))\n",
        "        print(\"  Max %s\" % maxi)\n",
        "        print(\"  Avg %s\" % mean)\n",
        "        print(\"  Std %s\" % std)\n",
        "    return maxi"
      ]
    },
    {
      "cell_type": "markdown",
      "source": [
        "Do some statistics over the stochastic results:"
      ],
      "metadata": {
        "id": "6kHM0Gm-J9B0"
      }
    },
    {
      "cell_type": "code",
      "execution_count": null,
      "metadata": {
        "id": "5t_RQCdrEzsB"
      },
      "outputs": [],
      "source": [
        "def main2(k):\n",
        "    # Create a list in order to do statistics\n",
        "    l=[]\n",
        "    for i in range(k):\n",
        "        print(\"Tour{}.\".format(i+1))\n",
        "        l+=[main()]\n",
        "\n",
        "    return l\n",
        "sample=plt.boxplot(main2(k))"
      ]
    }
  ],
  "metadata": {
    "kernelspec": {
      "display_name": "Python 3",
      "language": "python",
      "name": "python3"
    },
    "language_info": {
      "codemirror_mode": {
        "name": "ipython",
        "version": 3
      },
      "file_extension": ".py",
      "mimetype": "text/x-python",
      "name": "python",
      "nbconvert_exporter": "python",
      "pygments_lexer": "ipython3",
      "version": "3.7.6"
    },
    "colab": {
      "name": "prescriptive_stochastic_metaheuristic.ipynb",
      "provenance": [],
      "collapsed_sections": []
    }
  },
  "nbformat": 4,
  "nbformat_minor": 0
}