{
  "cells": [
    {
      "cell_type": "markdown",
      "metadata": {
        "id": "K2PoXBbs-b3A"
      },
      "source": [
        "#                     Exploratory Data Analysis"
      ]
    },
    {
      "cell_type": "markdown",
      "source": [
        "This notebook was intended to analyze the portfolio of insured clients that was shared with our team, after having estimated each client's resiliation probability based on individual features and rebate/surcharge interactions.\n",
        "\n",
        "Each client's churn probability was fitted on historical data using a logistic regression."
      ],
      "metadata": {
        "id": "cscJk3Ul-zTC"
      }
    },
    {
      "cell_type": "code",
      "execution_count": null,
      "metadata": {
        "id": "AK1nML_4-b3C"
      },
      "outputs": [],
      "source": [
        "# package importations\n",
        "import pandas as pd\n",
        "import numpy as np\n",
        "import os\n",
        "import matplotlib.pyplot as plt"
      ]
    },
    {
      "cell_type": "code",
      "execution_count": null,
      "metadata": {
        "id": "h6opFo6y-b3D"
      },
      "outputs": [],
      "source": [
        "os.chdir(\"### wd ###\")"
      ]
    },
    {
      "cell_type": "markdown",
      "metadata": {
        "id": "k1G3Mpaz-b3D"
      },
      "source": [
        "Dataset loading:"
      ]
    },
    {
      "cell_type": "code",
      "execution_count": null,
      "metadata": {
        "id": "E4gUuo_p-b3D",
        "outputId": "5493b14f-d2b0-4991-bb83-c7859e3d84c3"
      },
      "outputs": [
        {
          "data": {
            "text/html": [
              "<div>\n",
              "<style scoped>\n",
              "    .dataframe tbody tr th:only-of-type {\n",
              "        vertical-align: middle;\n",
              "    }\n",
              "\n",
              "    .dataframe tbody tr th {\n",
              "        vertical-align: top;\n",
              "    }\n",
              "\n",
              "    .dataframe thead th {\n",
              "        text-align: right;\n",
              "    }\n",
              "</style>\n",
              "<table border=\"1\" class=\"dataframe\">\n",
              "  <thead>\n",
              "    <tr style=\"text-align: right;\">\n",
              "      <th></th>\n",
              "      <th>prime_profit</th>\n",
              "      <th>pcc</th>\n",
              "      <th>coeff_non_prix</th>\n",
              "      <th>coeff_prix</th>\n",
              "      <th>proba_resil_0%</th>\n",
              "      <th>proba_resil_5%</th>\n",
              "    </tr>\n",
              "    <tr>\n",
              "      <th>id_police</th>\n",
              "      <th></th>\n",
              "      <th></th>\n",
              "      <th></th>\n",
              "      <th></th>\n",
              "      <th></th>\n",
              "      <th></th>\n",
              "    </tr>\n",
              "  </thead>\n",
              "  <tbody>\n",
              "    <tr>\n",
              "      <th>0</th>\n",
              "      <td>656.76</td>\n",
              "      <td>195.095040</td>\n",
              "      <td>-3.134886</td>\n",
              "      <td>0.030251</td>\n",
              "      <td>0.041691</td>\n",
              "      <td>0.048171</td>\n",
              "    </tr>\n",
              "    <tr>\n",
              "      <th>1</th>\n",
              "      <td>565.07</td>\n",
              "      <td>241.910668</td>\n",
              "      <td>-3.647255</td>\n",
              "      <td>0.028251</td>\n",
              "      <td>0.025401</td>\n",
              "      <td>0.029142</td>\n",
              "    </tr>\n",
              "    <tr>\n",
              "      <th>2</th>\n",
              "      <td>667.01</td>\n",
              "      <td>209.517653</td>\n",
              "      <td>-4.047125</td>\n",
              "      <td>0.007751</td>\n",
              "      <td>0.017172</td>\n",
              "      <td>0.017839</td>\n",
              "    </tr>\n",
              "    <tr>\n",
              "      <th>3</th>\n",
              "      <td>446.53</td>\n",
              "      <td>157.952262</td>\n",
              "      <td>-3.199612</td>\n",
              "      <td>0.011251</td>\n",
              "      <td>0.039180</td>\n",
              "      <td>0.041354</td>\n",
              "    </tr>\n",
              "    <tr>\n",
              "      <th>4</th>\n",
              "      <td>402.60</td>\n",
              "      <td>141.328265</td>\n",
              "      <td>-2.762014</td>\n",
              "      <td>0.010251</td>\n",
              "      <td>0.059412</td>\n",
              "      <td>0.062341</td>\n",
              "    </tr>\n",
              "    <tr>\n",
              "      <th>5</th>\n",
              "      <td>560.22</td>\n",
              "      <td>203.687056</td>\n",
              "      <td>-4.060793</td>\n",
              "      <td>0.015751</td>\n",
              "      <td>0.016943</td>\n",
              "      <td>0.018306</td>\n",
              "    </tr>\n",
              "    <tr>\n",
              "      <th>6</th>\n",
              "      <td>384.58</td>\n",
              "      <td>190.228731</td>\n",
              "      <td>-4.339055</td>\n",
              "      <td>0.001751</td>\n",
              "      <td>0.012881</td>\n",
              "      <td>0.012993</td>\n",
              "    </tr>\n",
              "    <tr>\n",
              "      <th>7</th>\n",
              "      <td>411.60</td>\n",
              "      <td>140.172988</td>\n",
              "      <td>-2.715471</td>\n",
              "      <td>0.016751</td>\n",
              "      <td>0.062067</td>\n",
              "      <td>0.067125</td>\n",
              "    </tr>\n",
              "    <tr>\n",
              "      <th>8</th>\n",
              "      <td>875.20</td>\n",
              "      <td>261.500800</td>\n",
              "      <td>-2.342503</td>\n",
              "      <td>0.024751</td>\n",
              "      <td>0.087664</td>\n",
              "      <td>0.098079</td>\n",
              "    </tr>\n",
              "    <tr>\n",
              "      <th>9</th>\n",
              "      <td>551.99</td>\n",
              "      <td>141.039456</td>\n",
              "      <td>-1.858827</td>\n",
              "      <td>0.032751</td>\n",
              "      <td>0.134840</td>\n",
              "      <td>0.155110</td>\n",
              "    </tr>\n",
              "    <tr>\n",
              "      <th>10</th>\n",
              "      <td>1864.47</td>\n",
              "      <td>518.424244</td>\n",
              "      <td>-3.350876</td>\n",
              "      <td>0.026251</td>\n",
              "      <td>0.033866</td>\n",
              "      <td>0.038434</td>\n",
              "    </tr>\n",
              "    <tr>\n",
              "      <th>11</th>\n",
              "      <td>294.34</td>\n",
              "      <td>155.805286</td>\n",
              "      <td>-3.097005</td>\n",
              "      <td>0.015251</td>\n",
              "      <td>0.043231</td>\n",
              "      <td>0.046497</td>\n",
              "    </tr>\n",
              "    <tr>\n",
              "      <th>12</th>\n",
              "      <td>332.12</td>\n",
              "      <td>148.980006</td>\n",
              "      <td>-4.107730</td>\n",
              "      <td>0.005751</td>\n",
              "      <td>0.016179</td>\n",
              "      <td>0.016643</td>\n",
              "    </tr>\n",
              "    <tr>\n",
              "      <th>13</th>\n",
              "      <td>232.88</td>\n",
              "      <td>72.957540</td>\n",
              "      <td>-3.434148</td>\n",
              "      <td>0.004751</td>\n",
              "      <td>0.031245</td>\n",
              "      <td>0.031972</td>\n",
              "    </tr>\n",
              "    <tr>\n",
              "      <th>14</th>\n",
              "      <td>362.97</td>\n",
              "      <td>166.485143</td>\n",
              "      <td>-3.677535</td>\n",
              "      <td>-0.000249</td>\n",
              "      <td>0.024662</td>\n",
              "      <td>0.024632</td>\n",
              "    </tr>\n",
              "    <tr>\n",
              "      <th>15</th>\n",
              "      <td>736.18</td>\n",
              "      <td>460.375459</td>\n",
              "      <td>-4.877595</td>\n",
              "      <td>0.002751</td>\n",
              "      <td>0.007558</td>\n",
              "      <td>0.007662</td>\n",
              "    </tr>\n",
              "    <tr>\n",
              "      <th>16</th>\n",
              "      <td>684.70</td>\n",
              "      <td>394.339826</td>\n",
              "      <td>-4.301681</td>\n",
              "      <td>0.021751</td>\n",
              "      <td>0.013365</td>\n",
              "      <td>0.014877</td>\n",
              "    </tr>\n",
              "    <tr>\n",
              "      <th>17</th>\n",
              "      <td>1023.16</td>\n",
              "      <td>264.618781</td>\n",
              "      <td>-3.034674</td>\n",
              "      <td>0.024751</td>\n",
              "      <td>0.045884</td>\n",
              "      <td>0.051616</td>\n",
              "    </tr>\n",
              "    <tr>\n",
              "      <th>18</th>\n",
              "      <td>737.85</td>\n",
              "      <td>372.231909</td>\n",
              "      <td>-3.585494</td>\n",
              "      <td>0.006751</td>\n",
              "      <td>0.026975</td>\n",
              "      <td>0.027875</td>\n",
              "    </tr>\n",
              "    <tr>\n",
              "      <th>19</th>\n",
              "      <td>354.96</td>\n",
              "      <td>142.467380</td>\n",
              "      <td>-2.302625</td>\n",
              "      <td>0.015751</td>\n",
              "      <td>0.090906</td>\n",
              "      <td>0.097627</td>\n",
              "    </tr>\n",
              "    <tr>\n",
              "      <th>20</th>\n",
              "      <td>680.35</td>\n",
              "      <td>249.508169</td>\n",
              "      <td>-3.529076</td>\n",
              "      <td>0.015251</td>\n",
              "      <td>0.028496</td>\n",
              "      <td>0.030685</td>\n",
              "    </tr>\n",
              "    <tr>\n",
              "      <th>21</th>\n",
              "      <td>226.49</td>\n",
              "      <td>82.759302</td>\n",
              "      <td>-3.964183</td>\n",
              "      <td>0.000251</td>\n",
              "      <td>0.018630</td>\n",
              "      <td>0.018653</td>\n",
              "    </tr>\n",
              "    <tr>\n",
              "      <th>22</th>\n",
              "      <td>160.00</td>\n",
              "      <td>67.864553</td>\n",
              "      <td>-1.850706</td>\n",
              "      <td>0.010751</td>\n",
              "      <td>0.135790</td>\n",
              "      <td>0.142223</td>\n",
              "    </tr>\n",
              "    <tr>\n",
              "      <th>23</th>\n",
              "      <td>424.87</td>\n",
              "      <td>102.936114</td>\n",
              "      <td>-4.353387</td>\n",
              "      <td>0.021251</td>\n",
              "      <td>0.012700</td>\n",
              "      <td>0.014103</td>\n",
              "    </tr>\n",
              "    <tr>\n",
              "      <th>24</th>\n",
              "      <td>530.03</td>\n",
              "      <td>178.595278</td>\n",
              "      <td>-3.259425</td>\n",
              "      <td>0.020251</td>\n",
              "      <td>0.036990</td>\n",
              "      <td>0.040771</td>\n",
              "    </tr>\n",
              "    <tr>\n",
              "      <th>25</th>\n",
              "      <td>400.76</td>\n",
              "      <td>162.333989</td>\n",
              "      <td>-3.436278</td>\n",
              "      <td>0.017251</td>\n",
              "      <td>0.031181</td>\n",
              "      <td>0.033894</td>\n",
              "    </tr>\n",
              "    <tr>\n",
              "      <th>26</th>\n",
              "      <td>285.60</td>\n",
              "      <td>233.350219</td>\n",
              "      <td>-3.200181</td>\n",
              "      <td>-0.005249</td>\n",
              "      <td>0.039159</td>\n",
              "      <td>0.038183</td>\n",
              "    </tr>\n",
              "    <tr>\n",
              "      <th>27</th>\n",
              "      <td>360.80</td>\n",
              "      <td>138.988098</td>\n",
              "      <td>-2.859383</td>\n",
              "      <td>0.000751</td>\n",
              "      <td>0.054198</td>\n",
              "      <td>0.054391</td>\n",
              "    </tr>\n",
              "    <tr>\n",
              "      <th>28</th>\n",
              "      <td>287.08</td>\n",
              "      <td>53.531315</td>\n",
              "      <td>-2.975972</td>\n",
              "      <td>0.017251</td>\n",
              "      <td>0.048523</td>\n",
              "      <td>0.052664</td>\n",
              "    </tr>\n",
              "    <tr>\n",
              "      <th>29</th>\n",
              "      <td>505.07</td>\n",
              "      <td>491.931384</td>\n",
              "      <td>-4.813157</td>\n",
              "      <td>-0.001249</td>\n",
              "      <td>0.008057</td>\n",
              "      <td>0.008007</td>\n",
              "    </tr>\n",
              "    <tr>\n",
              "      <th>...</th>\n",
              "      <td>...</td>\n",
              "      <td>...</td>\n",
              "      <td>...</td>\n",
              "      <td>...</td>\n",
              "      <td>...</td>\n",
              "      <td>...</td>\n",
              "    </tr>\n",
              "    <tr>\n",
              "      <th>657077</th>\n",
              "      <td>158.64</td>\n",
              "      <td>91.332092</td>\n",
              "      <td>-1.523766</td>\n",
              "      <td>0.038251</td>\n",
              "      <td>0.178908</td>\n",
              "      <td>0.208744</td>\n",
              "    </tr>\n",
              "    <tr>\n",
              "      <th>657078</th>\n",
              "      <td>352.90</td>\n",
              "      <td>287.594203</td>\n",
              "      <td>-2.713728</td>\n",
              "      <td>0.024251</td>\n",
              "      <td>0.062168</td>\n",
              "      <td>0.069624</td>\n",
              "    </tr>\n",
              "    <tr>\n",
              "      <th>657079</th>\n",
              "      <td>88.60</td>\n",
              "      <td>51.903172</td>\n",
              "      <td>-1.566316</td>\n",
              "      <td>0.038251</td>\n",
              "      <td>0.172742</td>\n",
              "      <td>0.201803</td>\n",
              "    </tr>\n",
              "    <tr>\n",
              "      <th>657080</th>\n",
              "      <td>295.60</td>\n",
              "      <td>186.181529</td>\n",
              "      <td>-1.926773</td>\n",
              "      <td>0.030251</td>\n",
              "      <td>0.127108</td>\n",
              "      <td>0.144857</td>\n",
              "    </tr>\n",
              "    <tr>\n",
              "      <th>657081</th>\n",
              "      <td>126.72</td>\n",
              "      <td>75.107775</td>\n",
              "      <td>-1.718437</td>\n",
              "      <td>0.027251</td>\n",
              "      <td>0.152073</td>\n",
              "      <td>0.170487</td>\n",
              "    </tr>\n",
              "    <tr>\n",
              "      <th>657082</th>\n",
              "      <td>1203.46</td>\n",
              "      <td>1224.345747</td>\n",
              "      <td>-2.575432</td>\n",
              "      <td>0.033251</td>\n",
              "      <td>0.070736</td>\n",
              "      <td>0.082476</td>\n",
              "    </tr>\n",
              "    <tr>\n",
              "      <th>657083</th>\n",
              "      <td>242.64</td>\n",
              "      <td>219.580478</td>\n",
              "      <td>-1.671114</td>\n",
              "      <td>0.027251</td>\n",
              "      <td>0.158276</td>\n",
              "      <td>0.177284</td>\n",
              "    </tr>\n",
              "    <tr>\n",
              "      <th>657084</th>\n",
              "      <td>279.72</td>\n",
              "      <td>189.079822</td>\n",
              "      <td>-1.480708</td>\n",
              "      <td>0.039251</td>\n",
              "      <td>0.185321</td>\n",
              "      <td>0.216793</td>\n",
              "    </tr>\n",
              "    <tr>\n",
              "      <th>657085</th>\n",
              "      <td>167.88</td>\n",
              "      <td>156.299742</td>\n",
              "      <td>-2.229563</td>\n",
              "      <td>0.025251</td>\n",
              "      <td>0.097127</td>\n",
              "      <td>0.108776</td>\n",
              "    </tr>\n",
              "    <tr>\n",
              "      <th>657086</th>\n",
              "      <td>91.05</td>\n",
              "      <td>65.320319</td>\n",
              "      <td>-2.350964</td>\n",
              "      <td>0.014251</td>\n",
              "      <td>0.086989</td>\n",
              "      <td>0.092817</td>\n",
              "    </tr>\n",
              "    <tr>\n",
              "      <th>657087</th>\n",
              "      <td>161.04</td>\n",
              "      <td>81.707050</td>\n",
              "      <td>-1.447272</td>\n",
              "      <td>0.038251</td>\n",
              "      <td>0.190422</td>\n",
              "      <td>0.221660</td>\n",
              "    </tr>\n",
              "    <tr>\n",
              "      <th>657088</th>\n",
              "      <td>115.39</td>\n",
              "      <td>75.477338</td>\n",
              "      <td>-1.822234</td>\n",
              "      <td>0.038251</td>\n",
              "      <td>0.139166</td>\n",
              "      <td>0.163696</td>\n",
              "    </tr>\n",
              "    <tr>\n",
              "      <th>657089</th>\n",
              "      <td>255.19</td>\n",
              "      <td>230.986100</td>\n",
              "      <td>-1.834497</td>\n",
              "      <td>0.039251</td>\n",
              "      <td>0.137703</td>\n",
              "      <td>0.162704</td>\n",
              "    </tr>\n",
              "    <tr>\n",
              "      <th>657090</th>\n",
              "      <td>247.60</td>\n",
              "      <td>225.508096</td>\n",
              "      <td>-2.070252</td>\n",
              "      <td>0.028251</td>\n",
              "      <td>0.112022</td>\n",
              "      <td>0.126862</td>\n",
              "    </tr>\n",
              "    <tr>\n",
              "      <th>657091</th>\n",
              "      <td>195.78</td>\n",
              "      <td>129.886359</td>\n",
              "      <td>-1.870709</td>\n",
              "      <td>0.038251</td>\n",
              "      <td>0.133460</td>\n",
              "      <td>0.157168</td>\n",
              "    </tr>\n",
              "    <tr>\n",
              "      <th>657092</th>\n",
              "      <td>281.12</td>\n",
              "      <td>231.515357</td>\n",
              "      <td>-2.332776</td>\n",
              "      <td>0.025251</td>\n",
              "      <td>0.088445</td>\n",
              "      <td>0.099166</td>\n",
              "    </tr>\n",
              "    <tr>\n",
              "      <th>657093</th>\n",
              "      <td>154.56</td>\n",
              "      <td>113.515904</td>\n",
              "      <td>-1.926237</td>\n",
              "      <td>0.028251</td>\n",
              "      <td>0.127168</td>\n",
              "      <td>0.143689</td>\n",
              "    </tr>\n",
              "    <tr>\n",
              "      <th>657094</th>\n",
              "      <td>141.18</td>\n",
              "      <td>95.205649</td>\n",
              "      <td>-1.852816</td>\n",
              "      <td>0.026251</td>\n",
              "      <td>0.135543</td>\n",
              "      <td>0.151670</td>\n",
              "    </tr>\n",
              "    <tr>\n",
              "      <th>657095</th>\n",
              "      <td>71.04</td>\n",
              "      <td>65.265353</td>\n",
              "      <td>-2.119033</td>\n",
              "      <td>0.014251</td>\n",
              "      <td>0.107261</td>\n",
              "      <td>0.114277</td>\n",
              "    </tr>\n",
              "    <tr>\n",
              "      <th>657096</th>\n",
              "      <td>147.67</td>\n",
              "      <td>127.252451</td>\n",
              "      <td>-2.059484</td>\n",
              "      <td>0.029251</td>\n",
              "      <td>0.113098</td>\n",
              "      <td>0.128618</td>\n",
              "    </tr>\n",
              "    <tr>\n",
              "      <th>657097</th>\n",
              "      <td>341.76</td>\n",
              "      <td>387.948702</td>\n",
              "      <td>-1.667988</td>\n",
              "      <td>0.028251</td>\n",
              "      <td>0.158693</td>\n",
              "      <td>0.178472</td>\n",
              "    </tr>\n",
              "    <tr>\n",
              "      <th>657098</th>\n",
              "      <td>142.02</td>\n",
              "      <td>119.616973</td>\n",
              "      <td>-2.535599</td>\n",
              "      <td>0.018251</td>\n",
              "      <td>0.073400</td>\n",
              "      <td>0.079853</td>\n",
              "    </tr>\n",
              "    <tr>\n",
              "      <th>657099</th>\n",
              "      <td>220.92</td>\n",
              "      <td>125.963493</td>\n",
              "      <td>-1.681176</td>\n",
              "      <td>0.037251</td>\n",
              "      <td>0.156940</td>\n",
              "      <td>0.183184</td>\n",
              "    </tr>\n",
              "    <tr>\n",
              "      <th>657100</th>\n",
              "      <td>157.56</td>\n",
              "      <td>77.769451</td>\n",
              "      <td>-1.759521</td>\n",
              "      <td>0.027251</td>\n",
              "      <td>0.146850</td>\n",
              "      <td>0.164755</td>\n",
              "    </tr>\n",
              "    <tr>\n",
              "      <th>657101</th>\n",
              "      <td>264.60</td>\n",
              "      <td>284.655509</td>\n",
              "      <td>-1.726010</td>\n",
              "      <td>0.039251</td>\n",
              "      <td>0.151099</td>\n",
              "      <td>0.178030</td>\n",
              "    </tr>\n",
              "    <tr>\n",
              "      <th>657102</th>\n",
              "      <td>128.52</td>\n",
              "      <td>70.879766</td>\n",
              "      <td>-1.523766</td>\n",
              "      <td>0.038251</td>\n",
              "      <td>0.178908</td>\n",
              "      <td>0.208744</td>\n",
              "    </tr>\n",
              "    <tr>\n",
              "      <th>657103</th>\n",
              "      <td>88.68</td>\n",
              "      <td>64.421229</td>\n",
              "      <td>-2.128233</td>\n",
              "      <td>0.025251</td>\n",
              "      <td>0.106383</td>\n",
              "      <td>0.118995</td>\n",
              "    </tr>\n",
              "    <tr>\n",
              "      <th>657104</th>\n",
              "      <td>153.72</td>\n",
              "      <td>158.584507</td>\n",
              "      <td>-2.525080</td>\n",
              "      <td>0.025251</td>\n",
              "      <td>0.074119</td>\n",
              "      <td>0.083262</td>\n",
              "    </tr>\n",
              "    <tr>\n",
              "      <th>657105</th>\n",
              "      <td>148.52</td>\n",
              "      <td>117.452758</td>\n",
              "      <td>-1.890339</td>\n",
              "      <td>0.026251</td>\n",
              "      <td>0.131206</td>\n",
              "      <td>0.146905</td>\n",
              "    </tr>\n",
              "    <tr>\n",
              "      <th>657106</th>\n",
              "      <td>147.65</td>\n",
              "      <td>80.607815</td>\n",
              "      <td>-1.713245</td>\n",
              "      <td>0.038251</td>\n",
              "      <td>0.152743</td>\n",
              "      <td>0.179169</td>\n",
              "    </tr>\n",
              "  </tbody>\n",
              "</table>\n",
              "<p>656858 rows × 6 columns</p>\n",
              "</div>"
            ],
            "text/plain": [
              "           prime_profit          pcc  coeff_non_prix  coeff_prix  \\\n",
              "id_police                                                          \n",
              "0                656.76   195.095040       -3.134886    0.030251   \n",
              "1                565.07   241.910668       -3.647255    0.028251   \n",
              "2                667.01   209.517653       -4.047125    0.007751   \n",
              "3                446.53   157.952262       -3.199612    0.011251   \n",
              "4                402.60   141.328265       -2.762014    0.010251   \n",
              "5                560.22   203.687056       -4.060793    0.015751   \n",
              "6                384.58   190.228731       -4.339055    0.001751   \n",
              "7                411.60   140.172988       -2.715471    0.016751   \n",
              "8                875.20   261.500800       -2.342503    0.024751   \n",
              "9                551.99   141.039456       -1.858827    0.032751   \n",
              "10              1864.47   518.424244       -3.350876    0.026251   \n",
              "11               294.34   155.805286       -3.097005    0.015251   \n",
              "12               332.12   148.980006       -4.107730    0.005751   \n",
              "13               232.88    72.957540       -3.434148    0.004751   \n",
              "14               362.97   166.485143       -3.677535   -0.000249   \n",
              "15               736.18   460.375459       -4.877595    0.002751   \n",
              "16               684.70   394.339826       -4.301681    0.021751   \n",
              "17              1023.16   264.618781       -3.034674    0.024751   \n",
              "18               737.85   372.231909       -3.585494    0.006751   \n",
              "19               354.96   142.467380       -2.302625    0.015751   \n",
              "20               680.35   249.508169       -3.529076    0.015251   \n",
              "21               226.49    82.759302       -3.964183    0.000251   \n",
              "22               160.00    67.864553       -1.850706    0.010751   \n",
              "23               424.87   102.936114       -4.353387    0.021251   \n",
              "24               530.03   178.595278       -3.259425    0.020251   \n",
              "25               400.76   162.333989       -3.436278    0.017251   \n",
              "26               285.60   233.350219       -3.200181   -0.005249   \n",
              "27               360.80   138.988098       -2.859383    0.000751   \n",
              "28               287.08    53.531315       -2.975972    0.017251   \n",
              "29               505.07   491.931384       -4.813157   -0.001249   \n",
              "...                 ...          ...             ...         ...   \n",
              "657077           158.64    91.332092       -1.523766    0.038251   \n",
              "657078           352.90   287.594203       -2.713728    0.024251   \n",
              "657079            88.60    51.903172       -1.566316    0.038251   \n",
              "657080           295.60   186.181529       -1.926773    0.030251   \n",
              "657081           126.72    75.107775       -1.718437    0.027251   \n",
              "657082          1203.46  1224.345747       -2.575432    0.033251   \n",
              "657083           242.64   219.580478       -1.671114    0.027251   \n",
              "657084           279.72   189.079822       -1.480708    0.039251   \n",
              "657085           167.88   156.299742       -2.229563    0.025251   \n",
              "657086            91.05    65.320319       -2.350964    0.014251   \n",
              "657087           161.04    81.707050       -1.447272    0.038251   \n",
              "657088           115.39    75.477338       -1.822234    0.038251   \n",
              "657089           255.19   230.986100       -1.834497    0.039251   \n",
              "657090           247.60   225.508096       -2.070252    0.028251   \n",
              "657091           195.78   129.886359       -1.870709    0.038251   \n",
              "657092           281.12   231.515357       -2.332776    0.025251   \n",
              "657093           154.56   113.515904       -1.926237    0.028251   \n",
              "657094           141.18    95.205649       -1.852816    0.026251   \n",
              "657095            71.04    65.265353       -2.119033    0.014251   \n",
              "657096           147.67   127.252451       -2.059484    0.029251   \n",
              "657097           341.76   387.948702       -1.667988    0.028251   \n",
              "657098           142.02   119.616973       -2.535599    0.018251   \n",
              "657099           220.92   125.963493       -1.681176    0.037251   \n",
              "657100           157.56    77.769451       -1.759521    0.027251   \n",
              "657101           264.60   284.655509       -1.726010    0.039251   \n",
              "657102           128.52    70.879766       -1.523766    0.038251   \n",
              "657103            88.68    64.421229       -2.128233    0.025251   \n",
              "657104           153.72   158.584507       -2.525080    0.025251   \n",
              "657105           148.52   117.452758       -1.890339    0.026251   \n",
              "657106           147.65    80.607815       -1.713245    0.038251   \n",
              "\n",
              "           proba_resil_0%  proba_resil_5%  \n",
              "id_police                                  \n",
              "0                0.041691        0.048171  \n",
              "1                0.025401        0.029142  \n",
              "2                0.017172        0.017839  \n",
              "3                0.039180        0.041354  \n",
              "4                0.059412        0.062341  \n",
              "5                0.016943        0.018306  \n",
              "6                0.012881        0.012993  \n",
              "7                0.062067        0.067125  \n",
              "8                0.087664        0.098079  \n",
              "9                0.134840        0.155110  \n",
              "10               0.033866        0.038434  \n",
              "11               0.043231        0.046497  \n",
              "12               0.016179        0.016643  \n",
              "13               0.031245        0.031972  \n",
              "14               0.024662        0.024632  \n",
              "15               0.007558        0.007662  \n",
              "16               0.013365        0.014877  \n",
              "17               0.045884        0.051616  \n",
              "18               0.026975        0.027875  \n",
              "19               0.090906        0.097627  \n",
              "20               0.028496        0.030685  \n",
              "21               0.018630        0.018653  \n",
              "22               0.135790        0.142223  \n",
              "23               0.012700        0.014103  \n",
              "24               0.036990        0.040771  \n",
              "25               0.031181        0.033894  \n",
              "26               0.039159        0.038183  \n",
              "27               0.054198        0.054391  \n",
              "28               0.048523        0.052664  \n",
              "29               0.008057        0.008007  \n",
              "...                   ...             ...  \n",
              "657077           0.178908        0.208744  \n",
              "657078           0.062168        0.069624  \n",
              "657079           0.172742        0.201803  \n",
              "657080           0.127108        0.144857  \n",
              "657081           0.152073        0.170487  \n",
              "657082           0.070736        0.082476  \n",
              "657083           0.158276        0.177284  \n",
              "657084           0.185321        0.216793  \n",
              "657085           0.097127        0.108776  \n",
              "657086           0.086989        0.092817  \n",
              "657087           0.190422        0.221660  \n",
              "657088           0.139166        0.163696  \n",
              "657089           0.137703        0.162704  \n",
              "657090           0.112022        0.126862  \n",
              "657091           0.133460        0.157168  \n",
              "657092           0.088445        0.099166  \n",
              "657093           0.127168        0.143689  \n",
              "657094           0.135543        0.151670  \n",
              "657095           0.107261        0.114277  \n",
              "657096           0.113098        0.128618  \n",
              "657097           0.158693        0.178472  \n",
              "657098           0.073400        0.079853  \n",
              "657099           0.156940        0.183184  \n",
              "657100           0.146850        0.164755  \n",
              "657101           0.151099        0.178030  \n",
              "657102           0.178908        0.208744  \n",
              "657103           0.106383        0.118995  \n",
              "657104           0.074119        0.083262  \n",
              "657105           0.131206        0.146905  \n",
              "657106           0.152743        0.179169  \n",
              "\n",
              "[656858 rows x 6 columns]"
            ]
          },
          "execution_count": 3,
          "metadata": {},
          "output_type": "execute_result"
        }
      ],
      "source": [
        "contract_df = pd.read_csv(\"### path to the dataset ###\")\n",
        "contract_df = contract_df.set_index(\"id_police\").dropna()\n",
        "contract_df"
      ]
    },
    {
      "cell_type": "markdown",
      "source": [
        "Almost 700K clients.\n",
        "\n",
        "Engineered features for each customer covered:\n",
        "- ```prime_profit```: premium paid by the insured customer to the insurer\n",
        "- ```pcc```: cost of the insured client from the insurer's perspective\n",
        "- ```coeff_prix```: aggregate of the rebate/surcharge-dependent coefficients of the fitted logistic regression\n",
        "- ```coeff_non_prix```: aggregate of the rebate/surcharge-independent coefficients of the fitted logistic regression\n",
        "- ```proba_resil_0%```: initial resiliation probability computed (as an example) for no surcharge on the new contract\n",
        "- ```proba_resil_5%```: resiliation probability computed (as an example) for a 5% surcharge on the new contract"
      ],
      "metadata": {
        "id": "K8JSC1YcEfUM"
      }
    },
    {
      "cell_type": "code",
      "execution_count": null,
      "metadata": {
        "id": "fzB0z3p4-b3E"
      },
      "outputs": [],
      "source": [
        "# utility variable to compute histograms later on\n",
        "n = int(np.sqrt(len(contract_df.index)))"
      ]
    },
    {
      "cell_type": "markdown",
      "metadata": {
        "id": "7CPL8Wbi-b3E"
      },
      "source": [
        "## 1. ```prime_profit``` and ```pcc```"
      ]
    },
    {
      "cell_type": "code",
      "execution_count": null,
      "metadata": {
        "scrolled": true,
        "id": "PZZ7o9oq-b3F",
        "outputId": "9149a6e4-c6f1-4908-b3f6-a72c188d2e4d"
      },
      "outputs": [
        {
          "data": {
            "image/png": "[encoded data removed]",
            "text/plain": [
              "<Figure size 432x288 with 1 Axes>"
            ]
          },
          "metadata": {},
          "output_type": "display_data"
        }
      ],
      "source": [
        "# distribution of premiums paid by the customers\n",
        "ax = contract_df[\"prime_profit\"].hist(bins=n, grid=False, range=(0,3000))\n",
        "plt.title(\"Prime profit distribution\")\n",
        "plt.xlabel(\"Prime profit value\")\n",
        "plt.ylabel(\"Occurences\")\n",
        "fig = ax.get_figure()\n",
        "plt.show()"
      ]
    },
    {
      "cell_type": "markdown",
      "metadata": {
        "id": "WGhNvfQ1-b3F"
      },
      "source": [
        "The ```prime_profit``` (i.e. revenue obtained from each customer) distribution looks like a log-normal one (or a khi-squared one): it is skewed, long-tailed, and asymmetric."
      ]
    },
    {
      "cell_type": "code",
      "execution_count": null,
      "metadata": {
        "scrolled": true,
        "id": "9LvJwXQm-b3G",
        "outputId": "0353fbac-810d-413f-d16f-19973c39e84d"
      },
      "outputs": [
        {
          "data": {
            "image/png": "[encoded data removed]",
            "text/plain": [
              "<Figure size 432x288 with 1 Axes>"
            ]
          },
          "metadata": {},
          "output_type": "display_data"
        }
      ],
      "source": [
        "# distribution of customer costs\n",
        "ax = contract_df[\"pcc\"].hist(bins=n, grid=False, range=(0,2000))\n",
        "plt.title(\"Prime cost distribution\")\n",
        "plt.xlabel(\"Prime cost value\")\n",
        "plt.ylabel(\"Occurences\")\n",
        "fig = ax.get_figure()\n",
        "plt.show()"
      ]
    },
    {
      "cell_type": "markdown",
      "metadata": {
        "id": "In-B8hzx-b3G"
      },
      "source": [
        "The ```pcc``` (cost of each client for the insurer) distribution looks like a log-normal one (or a khi-squared one): it is skewed, long-tailed, and asymmetric. Its kurtosis seems lower than that of the prime profit distribution."
      ]
    },
    {
      "cell_type": "code",
      "execution_count": null,
      "metadata": {
        "id": "zz-z2PlG-b3G",
        "outputId": "00b1b202-f6e7-4153-d50f-db52afa1473c"
      },
      "outputs": [
        {
          "name": "stdout",
          "output_type": "stream",
          "text": [
            "343.9349406109429\n",
            "289.81228253789436\n"
          ]
        }
      ],
      "source": [
        "# prime_profit stats\n",
        "print(contract_df[\"prime_profit\"].mean())\n",
        "print(contract_df[\"prime_profit\"].std())"
      ]
    },
    {
      "cell_type": "code",
      "execution_count": null,
      "metadata": {
        "id": "w7vFna5C-b3H",
        "outputId": "d3054c84-75a7-4611-8150-43cf8fef468d"
      },
      "outputs": [
        {
          "name": "stdout",
          "output_type": "stream",
          "text": [
            "220.20243614365725\n",
            "188.45356447363147\n"
          ]
        }
      ],
      "source": [
        "# pcc stats (customer cost in the eyes of the insurer, without \"logistic\" costs taken into account)\n",
        "print(contract_df[\"pcc\"].mean())\n",
        "print(contract_df[\"pcc\"].std())"
      ]
    },
    {
      "cell_type": "markdown",
      "metadata": {
        "id": "GlIFWUQU-b3H"
      },
      "source": [
        "On average, customers cost less than they bring in, but this does not take into account additional costs incurred by customers, such as paying the sales force, logistics,...\n",
        "The standard deviation of premiums is also higher than that of the costs."
      ]
    },
    {
      "cell_type": "markdown",
      "metadata": {
        "id": "oGu15z1d-b3H"
      },
      "source": [
        "### Outlier analysis"
      ]
    },
    {
      "cell_type": "code",
      "execution_count": null,
      "metadata": {
        "id": "lwbEsVRV-b3H",
        "outputId": "d85914e0-5066-41dd-eff5-1c8689b89513"
      },
      "outputs": [
        {
          "data": {
            "text/html": [
              "<div>\n",
              "<style scoped>\n",
              "    .dataframe tbody tr th:only-of-type {\n",
              "        vertical-align: middle;\n",
              "    }\n",
              "\n",
              "    .dataframe tbody tr th {\n",
              "        vertical-align: top;\n",
              "    }\n",
              "\n",
              "    .dataframe thead th {\n",
              "        text-align: right;\n",
              "    }\n",
              "</style>\n",
              "<table border=\"1\" class=\"dataframe\">\n",
              "  <thead>\n",
              "    <tr style=\"text-align: right;\">\n",
              "      <th></th>\n",
              "      <th>prime_profit</th>\n",
              "      <th>pcc</th>\n",
              "      <th>coeff_non_prix</th>\n",
              "      <th>coeff_prix</th>\n",
              "      <th>proba_resil_0%</th>\n",
              "      <th>proba_resil_5%</th>\n",
              "    </tr>\n",
              "    <tr>\n",
              "      <th>id_police</th>\n",
              "      <th></th>\n",
              "      <th></th>\n",
              "      <th></th>\n",
              "      <th></th>\n",
              "      <th></th>\n",
              "      <th></th>\n",
              "    </tr>\n",
              "  </thead>\n",
              "  <tbody>\n",
              "    <tr>\n",
              "      <th>5204</th>\n",
              "      <td>14493.15</td>\n",
              "      <td>4185.131957</td>\n",
              "      <td>-4.839457</td>\n",
              "      <td>0.019251</td>\n",
              "      <td>0.007849</td>\n",
              "      <td>0.008635</td>\n",
              "    </tr>\n",
              "    <tr>\n",
              "      <th>23074</th>\n",
              "      <td>10828.19</td>\n",
              "      <td>790.615282</td>\n",
              "      <td>-3.550927</td>\n",
              "      <td>0.017251</td>\n",
              "      <td>0.027897</td>\n",
              "      <td>0.030334</td>\n",
              "    </tr>\n",
              "    <tr>\n",
              "      <th>87597</th>\n",
              "      <td>36340.79</td>\n",
              "      <td>5624.557785</td>\n",
              "      <td>-4.259666</td>\n",
              "      <td>0.026251</td>\n",
              "      <td>0.013930</td>\n",
              "      <td>0.015853</td>\n",
              "    </tr>\n",
              "    <tr>\n",
              "      <th>350353</th>\n",
              "      <td>11604.27</td>\n",
              "      <td>1544.196174</td>\n",
              "      <td>-3.064788</td>\n",
              "      <td>0.016251</td>\n",
              "      <td>0.044583</td>\n",
              "      <td>0.048175</td>\n",
              "    </tr>\n",
              "    <tr>\n",
              "      <th>492436</th>\n",
              "      <td>16407.42</td>\n",
              "      <td>4810.077584</td>\n",
              "      <td>-3.471097</td>\n",
              "      <td>0.033251</td>\n",
              "      <td>0.030146</td>\n",
              "      <td>0.035405</td>\n",
              "    </tr>\n",
              "  </tbody>\n",
              "</table>\n",
              "</div>"
            ],
            "text/plain": [
              "           prime_profit          pcc  coeff_non_prix  coeff_prix  \\\n",
              "id_police                                                          \n",
              "5204           14493.15  4185.131957       -4.839457    0.019251   \n",
              "23074          10828.19   790.615282       -3.550927    0.017251   \n",
              "87597          36340.79  5624.557785       -4.259666    0.026251   \n",
              "350353         11604.27  1544.196174       -3.064788    0.016251   \n",
              "492436         16407.42  4810.077584       -3.471097    0.033251   \n",
              "\n",
              "           proba_resil_0%  proba_resil_5%  \n",
              "id_police                                  \n",
              "5204             0.007849        0.008635  \n",
              "23074            0.027897        0.030334  \n",
              "87597            0.013930        0.015853  \n",
              "350353           0.044583        0.048175  \n",
              "492436           0.030146        0.035405  "
            ]
          },
          "execution_count": 9,
          "metadata": {},
          "output_type": "execute_result"
        }
      ],
      "source": [
        "# some very profitable clients (10000 could have been found using quantiles of the prime_profit-pcc distribution)\n",
        "contract_df[contract_df[\"prime_profit\"]>10000+contract_df[\"pcc\"]]"
      ]
    },
    {
      "cell_type": "markdown",
      "metadata": {
        "id": "Ync3mT2R-b3H"
      },
      "source": [
        "There seem to be very profitable customers in the dataset, with high premium / cost ratio. And despite their high premium, these customers still have a low estimated resilience probability!"
      ]
    },
    {
      "cell_type": "code",
      "execution_count": null,
      "metadata": {
        "id": "xbiB-_Mf-b3I",
        "outputId": "95c2760e-f235-49a1-bd7c-5c75882b7fa5"
      },
      "outputs": [
        {
          "data": {
            "text/plain": [
              "69538"
            ]
          },
          "execution_count": 10,
          "metadata": {},
          "output_type": "execute_result"
        }
      ],
      "source": [
        "# customers at a loss\n",
        "len(contract_df[contract_df[\"pcc\"]>contract_df[\"prime_profit\"]])"
      ]
    },
    {
      "cell_type": "markdown",
      "metadata": {
        "id": "b1H7M-Yj-b3I"
      },
      "source": [
        "More than 10% of customers are at a loss before taking into account the ancillary costs!"
      ]
    },
    {
      "cell_type": "markdown",
      "metadata": {
        "id": "TGOCZ4VW-b3I"
      },
      "source": [
        "## 2. Analysis of the estimated churn probability"
      ]
    },
    {
      "cell_type": "markdown",
      "metadata": {
        "id": "UuYxxF15-b3I"
      },
      "source": [
        "### Visualizations of the previously fitted probability"
      ]
    },
    {
      "cell_type": "code",
      "execution_count": null,
      "metadata": {
        "id": "whZzA7B_-b3I",
        "outputId": "1e5385e4-7b06-420a-ce22-91dfc881592b"
      },
      "outputs": [
        {
          "data": {
            "image/png": "[encoded data removed]",
            "text/plain": [
              "<Figure size 432x288 with 1 Axes>"
            ]
          },
          "metadata": {},
          "output_type": "display_data"
        }
      ],
      "source": [
        "# churn probability distribution with no rebate/surcharge imposed on the premium of each renewed contract\n",
        "ax = contract_df[\"proba_resil_0%\"].hist(bins=n, grid=False, range=(0,1))\n",
        "plt.title(\"Resiliation probability distribution\")\n",
        "plt.xlabel(\"Probability\")\n",
        "plt.ylabel(\"Occurences\")\n",
        "fig = ax.get_figure()\n",
        "\n",
        "plt.show()"
      ]
    },
    {
      "cell_type": "code",
      "execution_count": null,
      "metadata": {
        "scrolled": true,
        "id": "TRietENx-b3I",
        "outputId": "bde60de9-c3e3-454d-b904-cad772ea2ef0"
      },
      "outputs": [
        {
          "data": {
            "image/png": "[encoded data removed]",
            "text/plain": [
              "<Figure size 432x288 with 1 Axes>"
            ]
          },
          "metadata": {},
          "output_type": "display_data"
        }
      ],
      "source": [
        "# churn probability distribution with a 5% surcharge imposed on the premium of each renewed contract\n",
        "ax = contract_df[\"proba_resil_5%\"].hist(bins=n, grid=False, range=(0,1))\n",
        "plt.title(\"Resiliation probability distribution\")\n",
        "plt.xlabel(\"Probability\")\n",
        "plt.ylabel(\"Occurencies\")\n",
        "fig = ax.get_figure()\n",
        "plt.show()"
      ]
    },
    {
      "cell_type": "code",
      "execution_count": null,
      "metadata": {
        "id": "lT1ev-X7-b3J",
        "outputId": "1b7f7d9e-ade1-4792-efe2-340b86b6565e"
      },
      "outputs": [
        {
          "data": {
            "text/plain": [
              "0.067613098547514"
            ]
          },
          "execution_count": 13,
          "metadata": {},
          "output_type": "execute_result"
        }
      ],
      "source": [
        "# average churn probability (over customers) with no surcharge on the premium of each renewed contract\n",
        "contract_df[\"proba_resil_0%\"].mean()"
      ]
    },
    {
      "cell_type": "code",
      "execution_count": null,
      "metadata": {
        "id": "SyZGgIGo-b3J",
        "outputId": "d21cb5d5-2a59-4f52-b390-8047e88699d0"
      },
      "outputs": [
        {
          "data": {
            "text/plain": [
              "0.0756793866180868"
            ]
          },
          "execution_count": 14,
          "metadata": {},
          "output_type": "execute_result"
        }
      ],
      "source": [
        "# average churn probability (over customers) with a 5% surcharge on the premium of each renewed contract\n",
        "contract_df[\"proba_resil_5%\"].mean()"
      ]
    },
    {
      "cell_type": "markdown",
      "metadata": {
        "id": "ne-XwYyw-b3J"
      },
      "source": [
        "Churn increases when the surcharge rate (same for everyone in the suboptimal analysis here) increases, which is consistent.\n",
        "We also note that without a surcharge, the risk of churning is still significant for some customers (=> a rebate might be relevant in this case)."
      ]
    },
    {
      "cell_type": "markdown",
      "metadata": {
        "id": "h6uwTbqT-b3J"
      },
      "source": [
        "### Reminder: computation of the probability of resilitation"
      ]
    },
    {
      "cell_type": "markdown",
      "metadata": {
        "id": "HPZVBIjt-b3J"
      },
      "source": [
        "Since we trained a logistic regression to model the resiliation probability, we have:\n",
        "\n",
        "resiliationProba(i) = exp(a(i)+b(i)delta(i))/(1+exp(a(i)+b(i)delta(i)))\n",
        "\n",
        "with:\n",
        "- i the id of a client\n",
        "- a(i) the ```coeff_non_prix``` of client i\n",
        "- b(i) the ```coeff_prix``` of client i\n",
        "- delta(i) the rebate/surcharge coefficient we will choose for client i.\n",
        "\n",
        "\n"
      ]
    },
    {
      "cell_type": "code",
      "execution_count": null,
      "metadata": {
        "id": "a6nkBFlY-b3J"
      },
      "outputs": [],
      "source": [
        "# function to compute the resiliation probability of a customer (row) given a rebate/surcharge (delta) to impose\n",
        "def getResiliationProba(row, delta):\n",
        "    return 1/(1+np.exp(-row['coeff_non_prix']-100*delta*row['coeff_prix']))"
      ]
    },
    {
      "cell_type": "markdown",
      "metadata": {
        "id": "qNOascKX-b3J"
      },
      "source": [
        "## 3. Elasticity to premium increase"
      ]
    },
    {
      "cell_type": "code",
      "execution_count": null,
      "metadata": {
        "id": "S_DkNk6P-b3J"
      },
      "outputs": [],
      "source": [
        "# price elasticity = (churn_proba(delta) - churn_proba(0))) / delta\n",
        "# function to compute the price elasticity of each customer all at once \n",
        "def buildElasticitySeries(contract_df, delta):\n",
        "    resiliation_probas = contract_df.apply(getResiliationProba, args=(delta,), axis=1)/(1-contract_df.apply(getResiliationProba, args=(0,), axis=1))\n",
        "    return resiliation_probas/delta"
      ]
    },
    {
      "cell_type": "code",
      "execution_count": null,
      "metadata": {
        "id": "LQG28PwG-b3J",
        "outputId": "2be3a0e6-3c73-4eb1-daff-8348050b6833"
      },
      "outputs": [
        {
          "data": {
            "text/plain": [
              "Text(0,0.5,'occurencies')"
            ]
          },
          "execution_count": 17,
          "metadata": {},
          "output_type": "execute_result"
        },
        {
          "data": {
            "image/png": "[encoded data removed]",
            "text/plain": [
              "<Figure size 432x288 with 1 Axes>"
            ]
          },
          "metadata": {},
          "output_type": "display_data"
        }
      ],
      "source": [
        "# for this quick visualization, we set the premium surcharge to 5% for all customers and check how their likelihood of churning evolves\n",
        "delta = 0.05  \n",
        "elasticity = buildElasticitySeries(contract_df, delta)\n",
        "\n",
        "ax = elasticity.hist(bins=n)\n",
        "plt.title(\"elasticity distribution\")\n",
        "plt.xlabel(\"elasticity\")\n",
        "plt.ylabel(\"occurences\")"
      ]
    },
    {
      "cell_type": "code",
      "execution_count": null,
      "metadata": {
        "scrolled": true,
        "id": "JxSUQ7JQ-b3J",
        "outputId": "0950e252-815a-4b0d-840b-d43b2bab8b2b"
      },
      "outputs": [
        {
          "data": {
            "text/plain": [
              "1.6952585241929576"
            ]
          },
          "execution_count": 18,
          "metadata": {},
          "output_type": "execute_result"
        }
      ],
      "source": [
        "elasticity.mean()"
      ]
    },
    {
      "cell_type": "markdown",
      "metadata": {
        "id": "HAUTgBij-b3J"
      },
      "source": [
        "The average elasticity (over all customers) is close to 2% for a 5% premium increase on all renewed contracts"
      ]
    },
    {
      "cell_type": "markdown",
      "metadata": {
        "id": "0i8UIn5--b3J"
      },
      "source": [
        "## 4. Profit analysis (```prime_profit``` - ```pcc```)"
      ]
    },
    {
      "cell_type": "markdown",
      "metadata": {
        "id": "7W4g4ETi-b3K"
      },
      "source": [
        "### analysis of the profit per client given a fixed surcharge"
      ]
    },
    {
      "cell_type": "code",
      "execution_count": null,
      "metadata": {
        "id": "t0N1QYYU-b3K"
      },
      "outputs": [],
      "source": [
        "# function to compute the profit made from each client given a fixed rebate/surcharge\n",
        "def buildMarginSeries(contract_df, delta):\n",
        "    resiliation_probas = contract_df.apply(getResiliationProba, args=(delta,), axis=1)\n",
        "    indiv_margin = (contract_df[\"prime_profit\"]*(1+delta)-contract_df[\"pcc\"])*(1-resiliation_probas)\n",
        "    return indiv_margin"
      ]
    },
    {
      "cell_type": "code",
      "execution_count": null,
      "metadata": {
        "id": "hGFFKzsA-b3K",
        "outputId": "9667740d-0352-4a61-d996-bdb6c0b602bd"
      },
      "outputs": [
        {
          "data": {
            "text/plain": [
              "Text(0.5,0,'invidual margin')"
            ]
          },
          "execution_count": 20,
          "metadata": {},
          "output_type": "execute_result"
        },
        {
          "data": {
            "image/png": "[encoded data removed]",
            "text/plain": [
              "<Figure size 432x288 with 1 Axes>"
            ]
          },
          "metadata": {},
          "output_type": "display_data"
        }
      ],
      "source": [
        "delta = 0.05  # 5% premium increase imposed to all customers\n",
        "margin = buildMarginSeries(contract_df, delta)\n",
        "\n",
        "margin.hist(bins=n, range=(-500, 1500))\n",
        "plt.title(\"invidual margins distribution for a majoration of 5%\")\n",
        "plt.ylabel(\"occurences\")\n",
        "plt.xlabel(\"invidual margin\")"
      ]
    },
    {
      "cell_type": "markdown",
      "metadata": {
        "id": "pvGSoPfg-b3K"
      },
      "source": [
        "We notice that some of the per-client profits are negative (for the customers at a loss) and that the tail of the high profits is pretty thick."
      ]
    },
    {
      "cell_type": "markdown",
      "metadata": {
        "id": "84buHMxZ-b3K"
      },
      "source": [
        "### aggregated profit analysis (over the whole portfolio)"
      ]
    },
    {
      "cell_type": "code",
      "execution_count": null,
      "metadata": {
        "id": "PdDfgi1p-b3K"
      },
      "outputs": [],
      "source": [
        "# function to compute the aggregated profit depending on a fixed rebate/surcharge coefficient applied to all clients (no personalization)\n",
        "def buildMarginAndRetentionEvolutionOverMajorationList(contract_df, sample_size, delta_list, min_proba_res):\n",
        "    margin_list = []\n",
        "    proba_retention_list = []\n",
        "    \n",
        "    # df = contract_df.sample(n=sample_size)\n",
        "    df = contract_df[contract_df['proba_resil_0%'] > min_proba_res]\n",
        "    # we extract a subpopulation of clients with a churn probability already high initially to better illustrate the effect of a future surcharge\n",
        "    \n",
        "    print(str(len(df))+\" contract found for a min proba of resiliation of \"+str(min_proba_res)+\"\\n\")\n",
        "    \n",
        "    for delta in delta_list:\n",
        "        resiliation_probas = df.apply(getResiliationProba, args=(delta,), axis=1)\n",
        "        print(resiliation_probas)\n",
        "        \n",
        "        margin = ((df[\"prime_profit\"]*(1+delta)-df[\"pcc\"])*(1-resiliation_probas)).sum()\n",
        "        margin_list.append(margin)\n",
        "        \n",
        "        proba_retention = (1-resiliation_probas).sum()/len(resiliation_probas.index)\n",
        "        proba_retention_list.append(proba_retention)\n",
        "        \n",
        "        print(\"Done for a majoration rate of \"+str(delta*100)+\"%\\n\")\n",
        "        \n",
        "    return margin_list, proba_retention_list"
      ]
    },
    {
      "cell_type": "code",
      "execution_count": null,
      "metadata": {
        "id": "fMW7IQ7U-b3K"
      },
      "outputs": [],
      "source": [
        "# we fix the arguments of the function, and compute the profits (=margin) and average retention probabilities depending on the rebate/surcharge delta\n",
        "delta_list = list(np.arange(-0.2,1.2,0.02)) # we span rebate/surcharges from -20% to +120%\n",
        "sample_size = 1\n",
        "min_proba_res = 0.1\n",
        "margin_list, proba_retention_list = buildMarginAndRetentionEvolutionOverMajorationList(contract_df, sample_size, delta_list, min_proba_res)"
      ]
    },
    {
      "cell_type": "code",
      "execution_count": null,
      "metadata": {
        "id": "gi5lRrEG-b3K",
        "outputId": "977806be-794b-43c8-e22d-93aec7023a48"
      },
      "outputs": [
        {
          "data": {
            "text/plain": [
              "Text(0.5,0,'majoration')"
            ]
          },
          "execution_count": 23,
          "metadata": {},
          "output_type": "execute_result"
        },
        {
          "data": {
            "image/png": "[encoded data removed]",
            "text/plain": [
              "<Figure size 432x288 with 2 Axes>"
            ]
          },
          "metadata": {},
          "output_type": "display_data"
        }
      ],
      "source": [
        "# we plot a graph of the evolution of the average retention probability and total profit over the rebate/surcharge coefficient applied to all clients\n",
        "fig, ax = plt.subplots()\n",
        "plt.plot(delta_list, margin_list, '--r', label='margin')\n",
        "ax.tick_params('vals', colors='r')\n",
        "#ax.legend(loc='upper left')\n",
        "plt.ylabel(\"margin (red)\")\n",
        "\n",
        "# Get second axis\n",
        "ax2 = ax.twinx()\n",
        "plt.plot(delta_list, proba_retention_list, '--b', label='retention proba')\n",
        "ax.tick_params('vals', colors='b')\n",
        "#ax.legend(loc='lower right')\n",
        "plt.ylabel(\"retention probability (blue)\")\n",
        "\n",
        "plt.title(\"margin evolution over majoration\")\n",
        "plt.xlabel(\"majoration\")"
      ]
    }
  ],
  "metadata": {
    "kernelspec": {
      "display_name": "Python 3",
      "language": "python",
      "name": "python3"
    },
    "language_info": {
      "codemirror_mode": {
        "name": "ipython",
        "version": 3
      },
      "file_extension": ".py",
      "mimetype": "text/x-python",
      "name": "python",
      "nbconvert_exporter": "python",
      "pygments_lexer": "ipython3",
      "version": "3.6.5"
    },
    "colab": {
      "name": "post_predictive_EDA.ipynb",
      "provenance": [],
      "collapsed_sections": []
    }
  },
  "nbformat": 4,
  "nbformat_minor": 0
}
